{
 "cells": [
  {
   "cell_type": "code",
   "execution_count": 1,
   "metadata": {},
   "outputs": [],
   "source": [
    "import re\n",
    "import os\n",
    "import pandas as pd\n",
    "import numpy as np\n",
    "from nltk.corpus import stopwords\n",
    "import nltk\n",
    "from nltk.stem import WordNetLemmatizer\n",
    "lemma = WordNetLemmatizer()"
   ]
  },
  {
   "cell_type": "code",
   "execution_count": 2,
   "metadata": {},
   "outputs": [
    {
     "data": {
      "text/html": [
       "<div>\n",
       "<style scoped>\n",
       "    .dataframe tbody tr th:only-of-type {\n",
       "        vertical-align: middle;\n",
       "    }\n",
       "\n",
       "    .dataframe tbody tr th {\n",
       "        vertical-align: top;\n",
       "    }\n",
       "\n",
       "    .dataframe thead th {\n",
       "        text-align: right;\n",
       "    }\n",
       "</style>\n",
       "<table border=\"1\" class=\"dataframe\">\n",
       "  <thead>\n",
       "    <tr style=\"text-align: right;\">\n",
       "      <th></th>\n",
       "      <th>&lt;?xml version=\"1.0\" encoding=\"UTF-8\" standalone=\"no\"?&gt;</th>\n",
       "    </tr>\n",
       "  </thead>\n",
       "  <tbody>\n",
       "    <tr>\n",
       "      <th>0</th>\n",
       "      <td>&lt;UPPC_document classification=\"P\" title=\"Chaud...</td>\n",
       "    </tr>\n",
       "    <tr>\n",
       "      <th>1</th>\n",
       "      <td>ایک معمولی زمیندار جناب حاجی شاہ جو کے مشرقی پ...</td>\n",
       "    </tr>\n",
       "    <tr>\n",
       "      <th>2</th>\n",
       "      <td>&lt;/UPPC_document&gt;</td>\n",
       "    </tr>\n",
       "  </tbody>\n",
       "</table>\n",
       "</div>"
      ],
      "text/plain": [
       "  <?xml version=\"1.0\" encoding=\"UTF-8\" standalone=\"no\"?>\n",
       "0  <UPPC_document classification=\"P\" title=\"Chaud...    \n",
       "1  ایک معمولی زمیندار جناب حاجی شاہ جو کے مشرقی پ...    \n",
       "2                                   </UPPC_document>    "
      ]
     },
     "execution_count": 2,
     "metadata": {},
     "output_type": "execute_result"
    }
   ],
   "source": [
    "df=pd.read_csv (r'C:\\Users\\FC\\Downloads\\UPPC\\UPPC Corpus\\data\\106_task_a_p.xml')\n",
    "df"
   ]
  },
  {
   "cell_type": "code",
   "execution_count": 3,
   "metadata": {},
   "outputs": [],
   "source": [
    "df[\"result\"]=df"
   ]
  },
  {
   "cell_type": "code",
   "execution_count": 4,
   "metadata": {},
   "outputs": [
    {
     "data": {
      "text/plain": [
       "0    <UPPC_document classification=\"P\" title=\"Chaud...\n",
       "1    ایک معمولی زمیندار جناب حاجی شاہ جو کے مشرقی پ...\n",
       "2                                     </UPPC_document>\n",
       "Name: result, dtype: object"
      ]
     },
     "execution_count": 4,
     "metadata": {},
     "output_type": "execute_result"
    }
   ],
   "source": [
    "df[\"result\"]"
   ]
  },
  {
   "cell_type": "code",
   "execution_count": 5,
   "metadata": {},
   "outputs": [],
   "source": [
    "df=df.drop(['<?xml version=\"1.0\" encoding=\"UTF-8\" standalone=\"no\"?>'], axis=1)"
   ]
  },
  {
   "cell_type": "code",
   "execution_count": null,
   "metadata": {},
   "outputs": [],
   "source": [
    "df"
   ]
  },
  {
   "cell_type": "code",
   "execution_count": 6,
   "metadata": {},
   "outputs": [],
   "source": [
    "df=df.iloc[1:,:]"
   ]
  },
  {
   "cell_type": "code",
   "execution_count": 7,
   "metadata": {},
   "outputs": [
    {
     "data": {
      "text/html": [
       "<div>\n",
       "<style scoped>\n",
       "    .dataframe tbody tr th:only-of-type {\n",
       "        vertical-align: middle;\n",
       "    }\n",
       "\n",
       "    .dataframe tbody tr th {\n",
       "        vertical-align: top;\n",
       "    }\n",
       "\n",
       "    .dataframe thead th {\n",
       "        text-align: right;\n",
       "    }\n",
       "</style>\n",
       "<table border=\"1\" class=\"dataframe\">\n",
       "  <thead>\n",
       "    <tr style=\"text-align: right;\">\n",
       "      <th></th>\n",
       "      <th>result</th>\n",
       "    </tr>\n",
       "  </thead>\n",
       "  <tbody>\n",
       "    <tr>\n",
       "      <th>1</th>\n",
       "      <td>ایک معمولی زمیندار جناب حاجی شاہ جو کے مشرقی پ...</td>\n",
       "    </tr>\n",
       "    <tr>\n",
       "      <th>2</th>\n",
       "      <td>&lt;/UPPC_document&gt;</td>\n",
       "    </tr>\n",
       "  </tbody>\n",
       "</table>\n",
       "</div>"
      ],
      "text/plain": [
       "                                              result\n",
       "1  ایک معمولی زمیندار جناب حاجی شاہ جو کے مشرقی پ...\n",
       "2                                   </UPPC_document>"
      ]
     },
     "execution_count": 7,
     "metadata": {},
     "output_type": "execute_result"
    }
   ],
   "source": [
    "df"
   ]
  },
  {
   "cell_type": "code",
   "execution_count": 8,
   "metadata": {},
   "outputs": [
    {
     "name": "stdout",
     "output_type": "stream",
     "text": [
      "<class 'pandas.core.frame.DataFrame'>\n",
      "RangeIndex: 2 entries, 1 to 2\n",
      "Data columns (total 1 columns):\n",
      " #   Column  Non-Null Count  Dtype \n",
      "---  ------  --------------  ----- \n",
      " 0   result  2 non-null      object\n",
      "dtypes: object(1)\n",
      "memory usage: 148.0+ bytes\n"
     ]
    }
   ],
   "source": [
    "df.info()"
   ]
  },
  {
   "cell_type": "code",
   "execution_count": 9,
   "metadata": {},
   "outputs": [
    {
     "data": {
      "text/plain": [
       "(2, 1)"
      ]
     },
     "execution_count": 9,
     "metadata": {},
     "output_type": "execute_result"
    }
   ],
   "source": [
    "df.shape"
   ]
  },
  {
   "cell_type": "code",
   "execution_count": 10,
   "metadata": {},
   "outputs": [],
   "source": [
    "data = df['result'].values"
   ]
  },
  {
   "cell_type": "code",
   "execution_count": 11,
   "metadata": {},
   "outputs": [
    {
     "data": {
      "text/plain": [
       "array(['ایک معمولی زمیندار جناب حاجی شاہ جو کے مشرقی پنجاب کے ضلع ہوشیار پور کے گاؤں موہراں میں رہتے تھے اِن کے بیٹے رحمت علی 16نومبر1897کو پیدا ہوئے۔ ایک عالم دین کے مکتب سے آپ نے ابتدائی تعلیم حاصل کی۔ جالندھر کے سکول اینگلو سنسکرت سے میٹرک کی تعلیم حاصل کی۔ مزید تعلیم کے حصول کے لئے1914ء میں لاہورآئے اوراسلامیہ کالج میں داخلہ لیا۔ مولانا شبلی سے متاثر ہو نے کی وجہ سے اسلامیہ کالج میں 1915ء میں بزم ِ شبلی  کی بنیاد رکھی اور اِسی پلیٹ فارم سے ہندوستان کی تقسیم کا نظریہ پیش کیا۔ اپنے کیریئر کی ابتداءآپ نے جناب محمد دین فوق کے اخبار کشمیر گزٹ سے بی اے کرنے کے بعد 1918ء میں بحثیت اسسٹنٹ ایڈیٹر کی۔ ایچی سن کالج میں 1928 ء میں استاد متعین ہوئے۔ انگلستان تشریف لے جانے کے بعد قانون اور سیاست میں اعلی ڈگریاں آپ نے ڈبلن اور کیمبرج یونیورسٹیوں سے حاصل کیں۔ پاکستان نیشنل لبریشن موومنٹ کے نام سے 1933ء میں ایک تنظیم بنائی جو  پاک  و ہندکے طلباء پر مشتمل تھی۔ ذہن میں رکھئے گا۔ دوسری گول میز کانفرنس جو کہ اِسی سال ہوئی تھی میں رحمت علی نے اپنا کتابچا  \"اب یا کبھی نہیں \" چھپوایا۔جس میں لفظ پاکستان پہلی بار آیا۔ کیمبرج سے ایک ہفت روز اخبار 1935ء میں نکالا گیا جس کا نام پاکستان تھا۔ لاہور میں منعقد ہونے والے آل انڈیا  مسلم لیگ کے چونتیسویں اجلاس میں رحمت علی آنا چاہتے تھے لیکن کچھ دِن پہلے خاکساروں کی فائرنگ کی وجہ سے جناب سکندر حیات نے آپ کو آنے سے منع کردیا جو اِس وقت کے وزیرِ اعلی پنجاب تھے۔ نمونیہ کی بیماری میں آپ 29 جنوری 1951 ءمیں مبتلا ء ہوئے،انگلستان کے نرسنگ ہوم میں بیماری کی شدت میں ہی داخل ہوئےاور تندرست نہ ہو سکے۔ فروری 3، 1951 کو آپ نے وفات پائی۔ کیمبرج شہرمیں آپ کا جسدِ خاکی دفن ہے۔',\n",
       "       '</UPPC_document>'], dtype=object)"
      ]
     },
     "execution_count": 11,
     "metadata": {},
     "output_type": "execute_result"
    }
   ],
   "source": [
    "data"
   ]
  },
  {
   "cell_type": "code",
   "execution_count": 12,
   "metadata": {},
   "outputs": [],
   "source": [
    "stopwords_list = [\"اب\",\"ابھی\",\"اپنا\",\"اپنے\",\"اپنی\",\"اٹھا\",\"اس\",\"اسے\",\"اسی\",\"اگر\",\"ان\",\"انہوں\",\"انہی\",\"انہیں\",\"انھیں\",\"او\",\"اور\",\"اے\",\"ایسا\",\"ایسے\",\"ایسی\",\"ایک\",\"آ\",\"آتا\",\"آتے\",\"آتی\",\"آگے\",\"آنا\",\"آنے\",\"آنی\",\"آئے\",\"آئی\",\"آئیں\",\"آیا\",\"با\",\"بڑا\",\"بڑے\",\"بڑی\",\"بعد\",\"بعض\",\"بلکہ\",\"بہت\",\"بھی\",\"بے\",\"پاس\",\"پر\",\"پہلے\",\"پھر\",\"تا\",\"تاکہ\",\"تب\",\"تجھ\",\"تجھے\",\"تک\",\"تم\",\"تمام\",\"تمہارا\",\"تمہارے\",\"تمھارے\",\"تمہاری\",\"تمہیں\",\"تمھیں\",\"تھا\",\"تھے\",\"تھی\",\"تھیں\",\"تو\",\"تیری\",\"تیرے\",\"جا\",\"جاتا\",\"جاتی\",\"جاتے\",\"جاتی\",\"جانے\",\"جانی\",\"جاؤ\",\"جائے\",\"جائیں\",\"جب\",\"جس\",\"جن\",\"جنہوں\",\"جنہیں\",\"جو\",\"جیسا\",\"جیسے\",\"جیسی\",\"جیسوں\",\"چاہیئے\",\"چلا\",\"چاہے\",\"چونکہ\",\"حالاں\",\"حالانکہ\",\"دو\",\"دونوں\",\"دوں\",\"دے\",\"دی\",\"دیا\",\"دیں\",\"دیے\",\"دیتا\",\"دیتے\",\"دیتی\",\"دینا\",\"دینے\",\"دینی\",\"دیئے\",\"ڈالا\",\"ڈالنا\",\"ڈالنے\",\"ڈالنی\",\"ڈالے\",\"ڈالی\",\"ذرا\",\"رکھا\",\"رکھتا\",\"رکھتے\",\"رکھتی\",\"رکھنا\",\"رکھنے\",\"رکھنی\",\"رکھے\",\"رکھی\",\"رہ\",\"رہا\",\"رہتا\",\"رہتے\",\"رہتی\",\"رہنا\",\"رہنے\",\"رہنی\",\"رہو\",\"رہے\",\"رہی\",\"رہیں\",\"زیادہ\",\"سا\",\"سامنے\",\"سب\",\"سکتا\",\"سو\",\"سے\",\"سی\",\"شاید\",\"صرف\",\"طرح\",\"طرف\",\"عین\",\"کا\",\"کبھی\",\"کچھ\",\"کہہ\",\"کر\",\"کرتا\",\"کرتے\",\"کرتی\",\"کرنا\",\"کرنے\",\"کرو\",\"کروں\",\"کرے\",\"کریں\",\"کس\",\"کسے\",\"کسی\",\"کہ\",\"کہا\",\"کہے\",\"کو\",\"کون\",\"کوئی\",\"کے\",\"کی\",\"کیا\",\"کیسے\",\"کیوں\",\"کیونکہ\",\"کیے\",\"کئے\",\"گا\",\"گویا\",\"گے\",\"گی\",\"گیا\",\"گئے\",\"گئی\",\"لا\",\"لاتا\",\"لاتے\",\"ل\",\"اتی\",\"لانا\",\"لانے\",\"لانی\",\"لایا\",\"لائے\",\"لائی\",\"لگا\",\"لگے\",\"لگی\",\"لگیں\",\"لو\",\"لے\",\"لی\",\"لیا\",\"لیتا\",\"لیتے\",\"لیتی\",\"لیکن\",\"لیں\",\"لیے\",\"لئے\",\"مجھ\",\"مجھے\",\"مگر\",\"میرا\",\"میرے\",\"میری\",\"میں\",\"نا\",\"نہ\",\"نہایت\",\"نہیں\",\"نے\",\"ہاں\",\"ہر\",\"ہم\",\"ہمارا\",\"ہمارے\",\"ہماری\",\"ہو\",\"ہوا\",\"ہوتا\",\"ہوتے\",\"ہوتی\",\"ہوتیں\",\"ہوں\",\"ہونا\",\"ہونگے\",\"ہونے\",\"ہونی\",\"ہوئے\",\"ہوئی\",\"ہوئیں\",\"ہے\",\"ہی\",\"ہیں\",\"و\",\"والا\",\"والوں\",\"والے\",\"والی\",\"وہ\",\"وہاں\",\"وہی\",\"وہیں\",\"یا\",\"یعنی\",\"یہ\",\"یہاں\",\"یہی\",\"یہیں\"]"
   ]
  },
  {
   "cell_type": "code",
   "execution_count": 13,
   "metadata": {},
   "outputs": [],
   "source": [
    "sentence = (\" \").join(data)"
   ]
  },
  {
   "cell_type": "code",
   "execution_count": null,
   "metadata": {},
   "outputs": [],
   "source": []
  },
  {
   "cell_type": "code",
   "execution_count": 15,
   "metadata": {},
   "outputs": [],
   "source": [
    "from nltk.corpus import stopwords  \n",
    "from nltk.tokenize import word_tokenize\n",
    "import nltk\n",
    "from nltk.corpus import stopwords  \n",
    "from nltk.tokenize import word_tokenize"
   ]
  },
  {
   "cell_type": "code",
   "execution_count": null,
   "metadata": {},
   "outputs": [],
   "source": []
  },
  {
   "cell_type": "code",
   "execution_count": 16,
   "metadata": {},
   "outputs": [],
   "source": [
    "word_tokens = word_tokenize(sentence)  \n",
    "filtered_sentence = [w for w in word_tokens if not w.lower() in stopwords_list] \n",
    "for w in word_tokens:  \n",
    "    if w not in stopwords_list:  \n",
    "        filtered_sentence.append(w)  "
   ]
  },
  {
   "cell_type": "code",
   "execution_count": 17,
   "metadata": {},
   "outputs": [],
   "source": [
    "filtered_sentence = (\" \").join(word_tokens)"
   ]
  },
  {
   "cell_type": "code",
   "execution_count": null,
   "metadata": {},
   "outputs": [],
   "source": []
  },
  {
   "cell_type": "code",
   "execution_count": 18,
   "metadata": {},
   "outputs": [
    {
     "data": {
      "text/plain": [
       "314"
      ]
     },
     "execution_count": 18,
     "metadata": {},
     "output_type": "execute_result"
    }
   ],
   "source": [
    "res = sentence.count(\" \")+1\n",
    "res"
   ]
  },
  {
   "cell_type": "code",
   "execution_count": 19,
   "metadata": {},
   "outputs": [
    {
     "data": {
      "text/plain": [
       "312"
      ]
     },
     "execution_count": 19,
     "metadata": {},
     "output_type": "execute_result"
    }
   ],
   "source": [
    "resu = filtered_sentence.count(\" \")+1\n",
    "resu"
   ]
  },
  {
   "cell_type": "code",
   "execution_count": 20,
   "metadata": {},
   "outputs": [],
   "source": [
    "Palg = {\"Plag\": [filtered_sentence]}"
   ]
  },
  {
   "cell_type": "code",
   "execution_count": 21,
   "metadata": {},
   "outputs": [
    {
     "data": {
      "text/plain": [
       "array(['ایک معمولی زمیندار جناب حاجی شاہ جو کے مشرقی پنجاب کے ضلع ہوشیار پور کے گاؤں موہراں میں رہتے تھے اِن کے بیٹے رحمت علی 16نومبر1897کو پیدا ہوئے۔ ایک عالم دین کے مکتب سے آپ نے ابتدائی تعلیم حاصل کی۔ جالندھر کے سکول اینگلو سنسکرت سے میٹرک کی تعلیم حاصل کی۔ مزید تعلیم کے حصول کے لئے1914ء میں لاہورآئے اوراسلامیہ کالج میں داخلہ لیا۔ مولانا شبلی سے متاثر ہو نے کی وجہ سے اسلامیہ کالج میں 1915ء میں بزم ِ شبلی کی بنیاد رکھی اور اِسی پلیٹ فارم سے ہندوستان کی تقسیم کا نظریہ پیش کیا۔ اپنے کیریئر کی ابتداءآپ نے جناب محمد دین فوق کے اخبار کشمیر گزٹ سے بی اے کرنے کے بعد 1918ء میں بحثیت اسسٹنٹ ایڈیٹر کی۔ ایچی سن کالج میں 1928 ء میں استاد متعین ہوئے۔ انگلستان تشریف لے جانے کے بعد قانون اور سیاست میں اعلی ڈگریاں آپ نے ڈبلن اور کیمبرج یونیورسٹیوں سے حاصل کیں۔ پاکستان نیشنل لبریشن موومنٹ کے نام سے 1933ء میں ایک تنظیم بنائی جو پاک و ہندکے طلباء پر مشتمل تھی۔ ذہن میں رکھئے گا۔ دوسری گول میز کانفرنس جو کہ اِسی سال ہوئی تھی میں رحمت علی نے اپنا کتابچا `` اب یا کبھی نہیں `` چھپوایا۔جس میں لفظ پاکستان پہلی بار آیا۔ کیمبرج سے ایک ہفت روز اخبار 1935ء میں نکالا گیا جس کا نام پاکستان تھا۔ لاہور میں منعقد ہونے والے آل انڈیا مسلم لیگ کے چونتیسویں اجلاس میں رحمت علی آنا چاہتے تھے لیکن کچھ دِن پہلے خاکساروں کی فائرنگ کی وجہ سے جناب سکندر حیات نے آپ کو آنے سے منع کردیا جو اِس وقت کے وزیرِ اعلی پنجاب تھے۔ نمونیہ کی بیماری میں آپ 29 جنوری 1951 ءمیں مبتلا ء ہوئے،انگلستان کے نرسنگ ہوم میں بیماری کی شدت میں ہی داخل ہوئےاور تندرست نہ ہو سکے۔ فروری 3، 1951 کو آپ نے وفات پائی۔ کیمبرج شہرمیں آپ کا جسدِ خاکی دفن ہے۔ < /UPPC_document >'],\n",
       "      dtype=object)"
      ]
     },
     "execution_count": 21,
     "metadata": {},
     "output_type": "execute_result"
    }
   ],
   "source": [
    "df=pd.DataFrame(Palg)\n",
    "df[\"Plag\"].values"
   ]
  },
  {
   "cell_type": "code",
   "execution_count": 22,
   "metadata": {},
   "outputs": [],
   "source": [
    "df=pd.read_csv (r'C:\\Users\\FC\\Downloads\\UPPC\\UPPC Corpus\\data\\001_task_a.xml')\n",
    "df[\"resul\"]=df"
   ]
  },
  {
   "cell_type": "code",
   "execution_count": 23,
   "metadata": {},
   "outputs": [
    {
     "data": {
      "text/plain": [
       "0    <UPPC_document classification=\"O\" title=\"Chaud...\n",
       "1    چودھری رحمت علی  16 نومبر1897  کو مشرقی پنجاب ...\n",
       "2     متوسط زمیندار جناب حاجی شاہ کے ہاں پیدا   ہوئ...\n",
       "3                                     </UPPC_document>\n",
       "Name: resul, dtype: object"
      ]
     },
     "execution_count": 23,
     "metadata": {},
     "output_type": "execute_result"
    }
   ],
   "source": [
    "df[\"resul\"]"
   ]
  },
  {
   "cell_type": "code",
   "execution_count": 24,
   "metadata": {},
   "outputs": [],
   "source": [
    "df=df.drop(['<?xml version=\"1.0\" encoding=\"UTF-8\" standalone=\"no\"?>'], axis=1)"
   ]
  },
  {
   "cell_type": "code",
   "execution_count": null,
   "metadata": {},
   "outputs": [],
   "source": []
  },
  {
   "cell_type": "code",
   "execution_count": 25,
   "metadata": {},
   "outputs": [],
   "source": [
    "df=df.iloc[1:, :]"
   ]
  },
  {
   "cell_type": "code",
   "execution_count": 26,
   "metadata": {},
   "outputs": [],
   "source": [
    "da = df['resul'].values"
   ]
  },
  {
   "cell_type": "code",
   "execution_count": 27,
   "metadata": {},
   "outputs": [
    {
     "data": {
      "text/plain": [
       "array(['چودھری رحمت علی  16 نومبر1897  کو مشرقی پنجاب کے ضلع ہوشیار پور کے گائوں  موہراں میں ایک',\n",
       "       ' متوسط زمیندار جناب حاجی شاہ کے ہاں پیدا   ہوئے۔ ابتدائی تعلیم انہوں نے ایک مکتب سے حاصل کی جو ایک عالم دین چلا رہے تھے۔ میٹرک اینگلو سنسکرت ہائی اسکول جالندھر سے کیا۔ 1914  میں   مزید تعلیم کے لئے لاہور  تشریف  لائے انہوں نے اسلامیہ کالج لاہور میں داخلہ لیا۔ 1915 میں اسلامیہ کالج میں بزم  شبلی کی بنیاد رکھی کیونکہ وہ  مولاناشبلی سے بہت  متاثر تھے اور پھراس کے پلیٹ فارم  سے 1915 میں تقسیم  ہن کا نظریہ  پیش کیا۔ 1918 میں بی اے کرنے کے بعد جناب محمد  دین فوق کے اخبار کشمیر گزٹ میں اسسٹنٹ ایڈیٹر کی حیثیت سے اپنے کیئریر کا آغاز کیا۔ 1928 میں ایچی سن کالج میں اتالیق مقرر ہوئے۔ کچھ  عرصہ  بعد انگلستان تشریف لے گئے جہاں کیمبرج اور ڈبلن یونورسٹیوں سے قانون اور سیاست میں اعلیٰ ڈگریاں حاصل کیں۔ اس طرح 1933 میں انہوں نے برصغیر کے طلباء پر مشتمل ایک تنظیم پاکستان نیشنل لبریشن موومنٹ کے نام سے قائم کی۔ ذہن میں رکھئے گا 1933 میں۔اسی سال چودھری رحمت علی  نے دوسری گول می کانفرنس کے موقع  پر اپنا مشہور کتابچہ Now or Never اب یا کبھی نہیں۔ شائع کیا جس میں پہلی مرتبہ لفظ پاکستان استعمال کیا گیا۔ 1935 میں انہوں نے کیمبرج  سے ایک ہفت روزہ اخبار نکالا جس کا نام بھی پاکستان تھا۔ چودھری رحمت علی 23 مارچ کو آلانڈیا  مسلم لیگ کے چونتیسوی سالانہ اجلاس میں لاہور تشریف لانا چاہتے تھے لیکن چند روز قبل خاکساروں کی فائرنگ کی وجہ سے اس وقت کے وزیر اعلیٰ پنجاب جناب سکندر  حیات نے چودھری رحمت علی کے پنجاب میں داخلے پر پابندی عائد کر دی-29 جنوری 1951  کو وہ نمونیہ میں مبتلا ہو کر شدید بیماری کی حالت میں  انگلستان کے ایک مقامی نرسنگ ہوم میں داخل ہو گئے لیکن صحت یاب نہ ہو سکے اور 3 فروری 1951 کو اپنے خالق حقیقی سے جا ملی۔  چودھری رحمت  علی کا جسدخاکی انگلستان کے شہر کیمبرج کے قبرستان میں امانتاً  دفن  ہے۔  ',\n",
       "       '</UPPC_document>'], dtype=object)"
      ]
     },
     "execution_count": 27,
     "metadata": {},
     "output_type": "execute_result"
    }
   ],
   "source": [
    "da"
   ]
  },
  {
   "cell_type": "code",
   "execution_count": 28,
   "metadata": {},
   "outputs": [],
   "source": [
    "sen = (\" \").join(da)"
   ]
  },
  {
   "cell_type": "code",
   "execution_count": 29,
   "metadata": {},
   "outputs": [],
   "source": [
    "from nltk.corpus import stopwords  \n",
    "from nltk.tokenize import word_tokenize\n",
    "import nltk\n",
    "from nltk.corpus import stopwords  \n",
    "from nltk.tokenize import word_tokenize"
   ]
  },
  {
   "cell_type": "code",
   "execution_count": 30,
   "metadata": {},
   "outputs": [],
   "source": [
    "word_tokens = word_tokenize(sen)  \n",
    "filtered_sentence = [w for w in word_tokens if not w.lower() in stopwords_list] \n",
    "for w in word_tokens:  \n",
    "    if w not in stopwords_list:  \n",
    "        filtered_sentence.append(w)  "
   ]
  },
  {
   "cell_type": "code",
   "execution_count": 31,
   "metadata": {},
   "outputs": [],
   "source": [
    "filtered_sen = (\" \").join(word_tokens)"
   ]
  },
  {
   "cell_type": "code",
   "execution_count": 32,
   "metadata": {},
   "outputs": [
    {
     "data": {
      "text/plain": [
       "373"
      ]
     },
     "execution_count": 32,
     "metadata": {},
     "output_type": "execute_result"
    }
   ],
   "source": [
    "res = sen.count(\" \")+1\n",
    "res"
   ]
  },
  {
   "cell_type": "code",
   "execution_count": 33,
   "metadata": {},
   "outputs": [
    {
     "data": {
      "text/plain": [
       "342"
      ]
     },
     "execution_count": 33,
     "metadata": {},
     "output_type": "execute_result"
    }
   ],
   "source": [
    "resu = filtered_sen.count(\" \")+1\n",
    "resu"
   ]
  },
  {
   "cell_type": "code",
   "execution_count": 34,
   "metadata": {},
   "outputs": [],
   "source": [
    "Orignal = {\"Ori\": [filtered_sen]}\n"
   ]
  },
  {
   "cell_type": "code",
   "execution_count": 35,
   "metadata": {},
   "outputs": [
    {
     "data": {
      "text/plain": [
       "array(['چودھری رحمت علی 16 نومبر1897 کو مشرقی پنجاب کے ضلع ہوشیار پور کے گائوں موہراں میں ایک متوسط زمیندار جناب حاجی شاہ کے ہاں پیدا ہوئے۔ ابتدائی تعلیم انہوں نے ایک مکتب سے حاصل کی جو ایک عالم دین چلا رہے تھے۔ میٹرک اینگلو سنسکرت ہائی اسکول جالندھر سے کیا۔ 1914 میں مزید تعلیم کے لئے لاہور تشریف لائے انہوں نے اسلامیہ کالج لاہور میں داخلہ لیا۔ 1915 میں اسلامیہ کالج میں بزم شبلی کی بنیاد رکھی کیونکہ وہ مولاناشبلی سے بہت متاثر تھے اور پھراس کے پلیٹ فارم سے 1915 میں تقسیم ہن کا نظریہ پیش کیا۔ 1918 میں بی اے کرنے کے بعد جناب محمد دین فوق کے اخبار کشمیر گزٹ میں اسسٹنٹ ایڈیٹر کی حیثیت سے اپنے کیئریر کا آغاز کیا۔ 1928 میں ایچی سن کالج میں اتالیق مقرر ہوئے۔ کچھ عرصہ بعد انگلستان تشریف لے گئے جہاں کیمبرج اور ڈبلن یونورسٹیوں سے قانون اور سیاست میں اعلیٰ ڈگریاں حاصل کیں۔ اس طرح 1933 میں انہوں نے برصغیر کے طلباء پر مشتمل ایک تنظیم پاکستان نیشنل لبریشن موومنٹ کے نام سے قائم کی۔ ذہن میں رکھئے گا 1933 میں۔اسی سال چودھری رحمت علی نے دوسری گول می کانفرنس کے موقع پر اپنا مشہور کتابچہ Now or Never اب یا کبھی نہیں۔ شائع کیا جس میں پہلی مرتبہ لفظ پاکستان استعمال کیا گیا۔ 1935 میں انہوں نے کیمبرج سے ایک ہفت روزہ اخبار نکالا جس کا نام بھی پاکستان تھا۔ چودھری رحمت علی 23 مارچ کو آلانڈیا مسلم لیگ کے چونتیسوی سالانہ اجلاس میں لاہور تشریف لانا چاہتے تھے لیکن چند روز قبل خاکساروں کی فائرنگ کی وجہ سے اس وقت کے وزیر اعلیٰ پنجاب جناب سکندر حیات نے چودھری رحمت علی کے پنجاب میں داخلے پر پابندی عائد کر دی-29 جنوری 1951 کو وہ نمونیہ میں مبتلا ہو کر شدید بیماری کی حالت میں انگلستان کے ایک مقامی نرسنگ ہوم میں داخل ہو گئے لیکن صحت یاب نہ ہو سکے اور 3 فروری 1951 کو اپنے خالق حقیقی سے جا ملی۔ چودھری رحمت علی کا جسدخاکی انگلستان کے شہر کیمبرج کے قبرستان میں امانتاً دفن ہے۔ < /UPPC_document >'],\n",
       "      dtype=object)"
      ]
     },
     "execution_count": 35,
     "metadata": {},
     "output_type": "execute_result"
    }
   ],
   "source": [
    "df=pd.DataFrame(Orignal)\n",
    "df[\"Ori\"].values"
   ]
  },
  {
   "cell_type": "code",
   "execution_count": 36,
   "metadata": {},
   "outputs": [],
   "source": [
    "df1=pd.DataFrame(Orignal)"
   ]
  },
  {
   "cell_type": "code",
   "execution_count": 37,
   "metadata": {},
   "outputs": [],
   "source": [
    "df2=pd.DataFrame(Palg)"
   ]
  },
  {
   "cell_type": "code",
   "execution_count": 38,
   "metadata": {},
   "outputs": [],
   "source": [
    "frame=pd.concat([df1, df2], axis=1)"
   ]
  },
  {
   "cell_type": "code",
   "execution_count": 39,
   "metadata": {},
   "outputs": [
    {
     "data": {
      "text/html": [
       "<div>\n",
       "<style scoped>\n",
       "    .dataframe tbody tr th:only-of-type {\n",
       "        vertical-align: middle;\n",
       "    }\n",
       "\n",
       "    .dataframe tbody tr th {\n",
       "        vertical-align: top;\n",
       "    }\n",
       "\n",
       "    .dataframe thead th {\n",
       "        text-align: right;\n",
       "    }\n",
       "</style>\n",
       "<table border=\"1\" class=\"dataframe\">\n",
       "  <thead>\n",
       "    <tr style=\"text-align: right;\">\n",
       "      <th></th>\n",
       "      <th>Ori</th>\n",
       "      <th>Plag</th>\n",
       "    </tr>\n",
       "  </thead>\n",
       "  <tbody>\n",
       "    <tr>\n",
       "      <th>0</th>\n",
       "      <td>چودھری رحمت علی 16 نومبر1897 کو مشرقی پنجاب کے...</td>\n",
       "      <td>ایک معمولی زمیندار جناب حاجی شاہ جو کے مشرقی پ...</td>\n",
       "    </tr>\n",
       "  </tbody>\n",
       "</table>\n",
       "</div>"
      ],
      "text/plain": [
       "                                                 Ori  \\\n",
       "0  چودھری رحمت علی 16 نومبر1897 کو مشرقی پنجاب کے...   \n",
       "\n",
       "                                                Plag  \n",
       "0  ایک معمولی زمیندار جناب حاجی شاہ جو کے مشرقی پ...  "
      ]
     },
     "execution_count": 39,
     "metadata": {},
     "output_type": "execute_result"
    }
   ],
   "source": [
    "frame"
   ]
  },
  {
   "cell_type": "code",
   "execution_count": null,
   "metadata": {},
   "outputs": [],
   "source": []
  },
  {
   "cell_type": "code",
   "execution_count": 42,
   "metadata": {},
   "outputs": [
    {
     "data": {
      "text/html": [
       "<div>\n",
       "<style scoped>\n",
       "    .dataframe tbody tr th:only-of-type {\n",
       "        vertical-align: middle;\n",
       "    }\n",
       "\n",
       "    .dataframe tbody tr th {\n",
       "        vertical-align: top;\n",
       "    }\n",
       "\n",
       "    .dataframe thead th {\n",
       "        text-align: right;\n",
       "    }\n",
       "</style>\n",
       "<table border=\"1\" class=\"dataframe\">\n",
       "  <thead>\n",
       "    <tr style=\"text-align: right;\">\n",
       "      <th></th>\n",
       "      <th>Ori</th>\n",
       "      <th>Plag</th>\n",
       "      <th>Percent</th>\n",
       "    </tr>\n",
       "  </thead>\n",
       "  <tbody>\n",
       "    <tr>\n",
       "      <th>0</th>\n",
       "      <td>چودھری رحمت علی 16 نومبر1897 کو مشرقی پنجاب کے...</td>\n",
       "      <td>ایک معمولی زمیندار جناب حاجی شاہ جو کے مشرقی پ...</td>\n",
       "      <td>0.924343</td>\n",
       "    </tr>\n",
       "  </tbody>\n",
       "</table>\n",
       "</div>"
      ],
      "text/plain": [
       "                                                 Ori  \\\n",
       "0  چودھری رحمت علی 16 نومبر1897 کو مشرقی پنجاب کے...   \n",
       "\n",
       "                                                Plag   Percent  \n",
       "0  ایک معمولی زمیندار جناب حاجی شاہ جو کے مشرقی پ...  0.924343  "
      ]
     },
     "execution_count": 42,
     "metadata": {},
     "output_type": "execute_result"
    }
   ],
   "source": [
    "import pandas as pd \n",
    "from sklearn.metrics.pairwise import cosine_similarity\n",
    "from similarity.cosine import Cosine\n",
    "cosine = Cosine(2)\n",
    "frame[\"p0\"] = frame[\"Ori\"].apply(lambda s: cosine.get_profile(s)) \n",
    "frame[\"p1\"] = frame[\"Plag\"].apply(lambda s: cosine.get_profile(s)) \n",
    "frame[\"Percent\"] = [cosine.similarity_profiles(p0,p1) for p0,p1 in zip(frame[\"p0\"],frame[\"p1\"])]\n",
    "frame.drop([\"p0\", \"p1\"], axis=1)"
   ]
  },
  {
   "cell_type": "code",
   "execution_count": null,
   "metadata": {},
   "outputs": [],
   "source": [
    "pip install strsim"
   ]
  },
  {
   "cell_type": "code",
   "execution_count": null,
   "metadata": {},
   "outputs": [],
   "source": [
    "from similarity.cosine import Cosine\n"
   ]
  },
  {
   "cell_type": "code",
   "execution_count": null,
   "metadata": {},
   "outputs": [],
   "source": []
  },
  {
   "cell_type": "code",
   "execution_count": null,
   "metadata": {},
   "outputs": [],
   "source": [
    "from sklearn.metrics.pairwise import cosine_similarity\n",
    "\n",
    "cosine_similarity(df1.O, df2.P)"
   ]
  },
  {
   "cell_type": "code",
   "execution_count": null,
   "metadata": {},
   "outputs": [],
   "source": [
    "from urduhack.normalization import *"
   ]
  },
  {
   "cell_type": "code",
   "execution_count": null,
   "metadata": {},
   "outputs": [],
   "source": [
    "normalized_text = normalize(sentence)\n",
    "normalized_text"
   ]
  },
  {
   "cell_type": "code",
   "execution_count": null,
   "metadata": {},
   "outputs": [],
   "source": [
    "from urduhack.normalization import remove_diacritics\n",
    "sa = remove_diacritics(normalized_text)\n",
    "sa"
   ]
  },
  {
   "cell_type": "code",
   "execution_count": null,
   "metadata": {},
   "outputs": [],
   "source": [
    "filtered_sentence[\"ra\"]"
   ]
  },
  {
   "cell_type": "code",
   "execution_count": null,
   "metadata": {},
   "outputs": [],
   "source": []
  },
  {
   "cell_type": "code",
   "execution_count": null,
   "metadata": {},
   "outputs": [],
   "source": [
    "pip install cosine-similarity"
   ]
  }
 ],
 "metadata": {
  "kernelspec": {
   "display_name": "Python 3",
   "language": "python",
   "name": "python3"
  },
  "language_info": {
   "codemirror_mode": {
    "name": "ipython",
    "version": 3
   },
   "file_extension": ".py",
   "mimetype": "text/x-python",
   "name": "python",
   "nbconvert_exporter": "python",
   "pygments_lexer": "ipython3",
   "version": "3.8.5"
  }
 },
 "nbformat": 4,
 "nbformat_minor": 4
}
