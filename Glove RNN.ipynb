{
 "cells": [
  {
   "cell_type": "code",
   "execution_count": 3,
   "metadata": {},
   "outputs": [
    {
     "name": "stderr",
     "output_type": "stream",
     "text": [
      "c:\\Users\\dell\\AppData\\Local\\Programs\\Python\\Python310\\lib\\site-packages\\tqdm\\auto.py:22: TqdmWarning: IProgress not found. Please update jupyter and ipywidgets. See https://ipywidgets.readthedocs.io/en/stable/user_install.html\n",
      "  from .autonotebook import tqdm as notebook_tqdm\n"
     ]
    }
   ],
   "source": [
    "import pandas as pd\n",
    "import matplotlib.pyplot as pt\n",
    "import numpy as np\n",
    "from sklearn.model_selection import train_test_split\n",
    "from keras.utils.vis_utils import plot_model\n",
    "from keras.models import Sequential\n",
    "from keras.preprocessing.text import Tokenizer\n",
    "# from keras_preprocessing.sequence import pad_sequences\n",
    "from keras.layers import Dense, Input, LSTM, Embedding, Dropout, Activation, Conv1D, GRU, CuDNNGRU, CuDNNLSTM, BatchNormalization\n",
    "from keras.layers import Bidirectional, GlobalMaxPool1D, MaxPooling1D, Add, Flatten\n",
    "from keras.layers import GlobalAveragePooling1D, GlobalMaxPooling1D, concatenate, SpatialDropout1D\n",
    "from keras.models import Model, load_model\n",
    "from keras import initializers, regularizers, constraints, optimizers, layers, callbacks\n",
    "from keras import backend as K\n",
    "from keras.layers import InputSpec,Layer\n",
    "import keras\n",
    "# from keras.engine import InputSpec, Layer\n",
    "from keras.optimizers import Adam\n",
    "from keras.callbacks import ModelCheckpoint, TensorBoard, Callback, EarlyStopping\n",
    "import os\n",
    "import pandas as pd\n",
    "import urduhack\n",
    "urduhack.download()\n",
    "from urduhack.models.lemmatizer import lemmatizer\n",
    "from urduhack.normalization import normalize\n",
    "from urduhack.preprocessing import normalize_whitespace, remove_punctuation,remove_accents,replace_numbers\n",
    "from urduhack.stop_words import STOP_WORDS\n",
    "import spacy\n",
    "from sklearn.metrics.pairwise import cosine_similarity\n",
    "from sklearn.feature_extraction.text import TfidfVectorizer\n"
   ]
  },
  {
   "cell_type": "code",
   "execution_count": 4,
   "metadata": {},
   "outputs": [],
   "source": [
    "train = pd.read_csv('Train_data.csv')\n",
    "test = pd.read_csv('Test_data.csv')\n"
   ]
  },
  {
   "cell_type": "code",
   "execution_count": 5,
   "metadata": {},
   "outputs": [
    {
     "data": {
      "text/html": [
       "<div>\n",
       "<style scoped>\n",
       "    .dataframe tbody tr th:only-of-type {\n",
       "        vertical-align: middle;\n",
       "    }\n",
       "\n",
       "    .dataframe tbody tr th {\n",
       "        vertical-align: top;\n",
       "    }\n",
       "\n",
       "    .dataframe thead th {\n",
       "        text-align: right;\n",
       "    }\n",
       "</style>\n",
       "<table border=\"1\" class=\"dataframe\">\n",
       "  <thead>\n",
       "    <tr style=\"text-align: right;\">\n",
       "      <th></th>\n",
       "      <th>Sentence</th>\n",
       "      <th>Sentiment</th>\n",
       "    </tr>\n",
       "  </thead>\n",
       "  <tbody>\n",
       "    <tr>\n",
       "      <th>0</th>\n",
       "      <td>['چودھری رحمت علی  16 نومبر1897  کو مشرقی پنجا...</td>\n",
       "      <td>['O']</td>\n",
       "    </tr>\n",
       "    <tr>\n",
       "      <th>1</th>\n",
       "      <td>['تقریباً 25 سال کی عمر میں آپ صلی اللہ علیہ و...</td>\n",
       "      <td>['O']</td>\n",
       "    </tr>\n",
       "    <tr>\n",
       "      <th>2</th>\n",
       "      <td>['لیاقت علی خان پاکستان کے پہلے وزیراعظم تھے۔ ...</td>\n",
       "      <td>['O']</td>\n",
       "    </tr>\n",
       "    <tr>\n",
       "      <th>3</th>\n",
       "      <td>['مرزا غالب 1797- 1869 اردو زبان کے سب سے بڑے ...</td>\n",
       "      <td>['O']</td>\n",
       "    </tr>\n",
       "    <tr>\n",
       "      <th>4</th>\n",
       "      <td>['ٹیپو سلطان 10 نومبر1750~ 4 مئی 1799 ہندوستان...</td>\n",
       "      <td>['O']</td>\n",
       "    </tr>\n",
       "    <tr>\n",
       "      <th>...</th>\n",
       "      <td>...</td>\n",
       "      <td>...</td>\n",
       "    </tr>\n",
       "    <tr>\n",
       "      <th>123</th>\n",
       "      <td>['برطانوی ہندوستان میں رہنے والے شیخ محمد نور ...</td>\n",
       "      <td>['P']</td>\n",
       "    </tr>\n",
       "    <tr>\n",
       "      <th>124</th>\n",
       "      <td>['قاروق کا لقب پانے والے حضرت عمر رضی اللہ تعا...</td>\n",
       "      <td>['P']</td>\n",
       "    </tr>\n",
       "    <tr>\n",
       "      <th>125</th>\n",
       "      <td>[\"زمیندار جناب حاجی شاہ مشرقی پنجاب کے ضلع ہوش...</td>\n",
       "      <td>['P']</td>\n",
       "    </tr>\n",
       "    <tr>\n",
       "      <th>126</th>\n",
       "      <td>['نبی محترمؐ نے حضرت خدیجہؓ کے تجارتی قافلے کے...</td>\n",
       "      <td>['P']</td>\n",
       "    </tr>\n",
       "    <tr>\n",
       "      <th>127</th>\n",
       "      <td>['پاکستان کے پہلے وزیرِ اعظم کا اعزاز لیاقت عل...</td>\n",
       "      <td>['P']</td>\n",
       "    </tr>\n",
       "  </tbody>\n",
       "</table>\n",
       "<p>128 rows × 2 columns</p>\n",
       "</div>"
      ],
      "text/plain": [
       "                                              Sentence Sentiment\n",
       "0    ['چودھری رحمت علی  16 نومبر1897  کو مشرقی پنجا...     ['O']\n",
       "1    ['تقریباً 25 سال کی عمر میں آپ صلی اللہ علیہ و...     ['O']\n",
       "2    ['لیاقت علی خان پاکستان کے پہلے وزیراعظم تھے۔ ...     ['O']\n",
       "3    ['مرزا غالب 1797- 1869 اردو زبان کے سب سے بڑے ...     ['O']\n",
       "4    ['ٹیپو سلطان 10 نومبر1750~ 4 مئی 1799 ہندوستان...     ['O']\n",
       "..                                                 ...       ...\n",
       "123  ['برطانوی ہندوستان میں رہنے والے شیخ محمد نور ...     ['P']\n",
       "124  ['قاروق کا لقب پانے والے حضرت عمر رضی اللہ تعا...     ['P']\n",
       "125  [\"زمیندار جناب حاجی شاہ مشرقی پنجاب کے ضلع ہوش...     ['P']\n",
       "126  ['نبی محترمؐ نے حضرت خدیجہؓ کے تجارتی قافلے کے...     ['P']\n",
       "127  ['پاکستان کے پہلے وزیرِ اعظم کا اعزاز لیاقت عل...     ['P']\n",
       "\n",
       "[128 rows x 2 columns]"
      ]
     },
     "execution_count": 5,
     "metadata": {},
     "output_type": "execute_result"
    }
   ],
   "source": [
    "train"
   ]
  },
  {
   "cell_type": "code",
   "execution_count": 6,
   "metadata": {},
   "outputs": [],
   "source": [
    "train['Sentiment'] =train['Sentiment'].replace({\"['O']\": 1, \"['P']\" :2 , \"['NP']\":3 })"
   ]
  },
  {
   "cell_type": "code",
   "execution_count": 7,
   "metadata": {},
   "outputs": [],
   "source": [
    "test['Sentiment'] =test['Sentiment'].replace({\"['O']\": 1, \"['P']\" :2 , \"['NP']\":3 })"
   ]
  },
  {
   "cell_type": "code",
   "execution_count": 8,
   "metadata": {},
   "outputs": [
    {
     "data": {
      "text/html": [
       "<div>\n",
       "<style scoped>\n",
       "    .dataframe tbody tr th:only-of-type {\n",
       "        vertical-align: middle;\n",
       "    }\n",
       "\n",
       "    .dataframe tbody tr th {\n",
       "        vertical-align: top;\n",
       "    }\n",
       "\n",
       "    .dataframe thead th {\n",
       "        text-align: right;\n",
       "    }\n",
       "</style>\n",
       "<table border=\"1\" class=\"dataframe\">\n",
       "  <thead>\n",
       "    <tr style=\"text-align: right;\">\n",
       "      <th></th>\n",
       "      <th>Sentence</th>\n",
       "      <th>Sentiment</th>\n",
       "    </tr>\n",
       "  </thead>\n",
       "  <tbody>\n",
       "    <tr>\n",
       "      <th>0</th>\n",
       "      <td>['چودھری رحمت علی  16 نومبر1897  کو مشرقی پنجا...</td>\n",
       "      <td>1</td>\n",
       "    </tr>\n",
       "    <tr>\n",
       "      <th>1</th>\n",
       "      <td>['تقریباً 25 سال کی عمر میں آپ صلی اللہ علیہ و...</td>\n",
       "      <td>1</td>\n",
       "    </tr>\n",
       "    <tr>\n",
       "      <th>2</th>\n",
       "      <td>['لیاقت علی خان پاکستان کے پہلے وزیراعظم تھے۔ ...</td>\n",
       "      <td>1</td>\n",
       "    </tr>\n",
       "    <tr>\n",
       "      <th>3</th>\n",
       "      <td>['مرزا غالب 1797- 1869 اردو زبان کے سب سے بڑے ...</td>\n",
       "      <td>1</td>\n",
       "    </tr>\n",
       "    <tr>\n",
       "      <th>4</th>\n",
       "      <td>['ٹیپو سلطان 10 نومبر1750~ 4 مئی 1799 ہندوستان...</td>\n",
       "      <td>1</td>\n",
       "    </tr>\n",
       "    <tr>\n",
       "      <th>...</th>\n",
       "      <td>...</td>\n",
       "      <td>...</td>\n",
       "    </tr>\n",
       "    <tr>\n",
       "      <th>123</th>\n",
       "      <td>['برطانوی ہندوستان میں رہنے والے شیخ محمد نور ...</td>\n",
       "      <td>2</td>\n",
       "    </tr>\n",
       "    <tr>\n",
       "      <th>124</th>\n",
       "      <td>['قاروق کا لقب پانے والے حضرت عمر رضی اللہ تعا...</td>\n",
       "      <td>2</td>\n",
       "    </tr>\n",
       "    <tr>\n",
       "      <th>125</th>\n",
       "      <td>[\"زمیندار جناب حاجی شاہ مشرقی پنجاب کے ضلع ہوش...</td>\n",
       "      <td>2</td>\n",
       "    </tr>\n",
       "    <tr>\n",
       "      <th>126</th>\n",
       "      <td>['نبی محترمؐ نے حضرت خدیجہؓ کے تجارتی قافلے کے...</td>\n",
       "      <td>2</td>\n",
       "    </tr>\n",
       "    <tr>\n",
       "      <th>127</th>\n",
       "      <td>['پاکستان کے پہلے وزیرِ اعظم کا اعزاز لیاقت عل...</td>\n",
       "      <td>2</td>\n",
       "    </tr>\n",
       "  </tbody>\n",
       "</table>\n",
       "<p>128 rows × 2 columns</p>\n",
       "</div>"
      ],
      "text/plain": [
       "                                              Sentence  Sentiment\n",
       "0    ['چودھری رحمت علی  16 نومبر1897  کو مشرقی پنجا...          1\n",
       "1    ['تقریباً 25 سال کی عمر میں آپ صلی اللہ علیہ و...          1\n",
       "2    ['لیاقت علی خان پاکستان کے پہلے وزیراعظم تھے۔ ...          1\n",
       "3    ['مرزا غالب 1797- 1869 اردو زبان کے سب سے بڑے ...          1\n",
       "4    ['ٹیپو سلطان 10 نومبر1750~ 4 مئی 1799 ہندوستان...          1\n",
       "..                                                 ...        ...\n",
       "123  ['برطانوی ہندوستان میں رہنے والے شیخ محمد نور ...          2\n",
       "124  ['قاروق کا لقب پانے والے حضرت عمر رضی اللہ تعا...          2\n",
       "125  [\"زمیندار جناب حاجی شاہ مشرقی پنجاب کے ضلع ہوش...          2\n",
       "126  ['نبی محترمؐ نے حضرت خدیجہؓ کے تجارتی قافلے کے...          2\n",
       "127  ['پاکستان کے پہلے وزیرِ اعظم کا اعزاز لیاقت عل...          2\n",
       "\n",
       "[128 rows x 2 columns]"
      ]
     },
     "execution_count": 8,
     "metadata": {},
     "output_type": "execute_result"
    }
   ],
   "source": [
    "train"
   ]
  },
  {
   "cell_type": "code",
   "execution_count": 42,
   "metadata": {},
   "outputs": [],
   "source": [
    "from collections import Counter\n",
    "def create_vocab(df):\n",
    "    vocab = Counter()\n",
    "    for i in range(df.shape[0]):\n",
    "        vocab.update(df.Sentence[i].split())\n",
    "    return(vocab)"
   ]
  },
  {
   "cell_type": "code",
   "execution_count": 43,
   "metadata": {},
   "outputs": [
    {
     "data": {
      "text/plain": [
       "3054"
      ]
     },
     "execution_count": 43,
     "metadata": {},
     "output_type": "execute_result"
    }
   ],
   "source": [
    "# concatenate training and testing datasets\n",
    "master=pd.concat((train,test)).reset_index(drop=True)\n",
    "\n",
    "# call vocabulary creation function on master dataset\n",
    "vocab = create_vocab(master)\n",
    "\n",
    "# lets check the no. of words in the vocabulary\n",
    "len(vocab)"
   ]
  },
  {
   "cell_type": "code",
   "execution_count": 11,
   "metadata": {},
   "outputs": [
    {
     "data": {
      "text/plain": [
       "[('کے', 2034),\n",
       " ('میں', 1821),\n",
       " ('کی', 1721),\n",
       " ('سے', 1113),\n",
       " ('کو', 1057),\n",
       " ('نے', 1037),\n",
       " ('اور', 1020),\n",
       " ('آپ', 872),\n",
       " ('کا', 757),\n",
       " ('کر', 438),\n",
       " ('پر', 385),\n",
       " ('ایک', 295),\n",
       " ('بعد', 281),\n",
       " ('بھی', 270),\n",
       " ('پاکستان', 254),\n",
       " ('کہ', 246),\n",
       " ('اس', 241),\n",
       " ('حضرت', 224),\n",
       " ('اپنے', 219),\n",
       " ('ہو', 211),\n",
       " ('علی', 200),\n",
       " ('ہی', 190),\n",
       " ('وہ', 188),\n",
       " ('کیا', 186),\n",
       " ('حاصل', 180),\n",
       " ('ان', 179),\n",
       " ('ہے۔', 175),\n",
       " ('خان', 172),\n",
       " ('تعلیم', 165),\n",
       " ('جو', 164),\n",
       " ('اپنی', 157),\n",
       " ('کرنے', 154),\n",
       " ('لئے', 153),\n",
       " ('نام', 152),\n",
       " ('سال', 151),\n",
       " ('بہت', 147),\n",
       " ('تھا۔', 147),\n",
       " ('انہوں', 142),\n",
       " ('کی۔', 140),\n",
       " ('تھے۔', 139),\n",
       " ('کیا۔', 139),\n",
       " ('جس', 130),\n",
       " ('و', 128),\n",
       " ('ہے', 127),\n",
       " ('پیدا', 126),\n",
       " ('تو', 123),\n",
       " ('عمر', 121),\n",
       " ('شاہ', 120),\n",
       " ('محمد', 118),\n",
       " ('تھے', 116)]"
      ]
     },
     "execution_count": 11,
     "metadata": {},
     "output_type": "execute_result"
    }
   ],
   "source": [
    "vocab.most_common(50)"
   ]
  },
  {
   "cell_type": "code",
   "execution_count": 44,
   "metadata": {},
   "outputs": [],
   "source": [
    "# create the final vocab by considering words with more than one occurence\n",
    "# create the final vocab by considering words with more than one occurence\n",
    "final_vocab = []\n",
    "min_occur = 2\n",
    "for k,v in vocab.items():\n",
    "    if v >= min_occur:\n",
    "        final_vocab.append(k)"
   ]
  },
  {
   "cell_type": "code",
   "execution_count": 45,
   "metadata": {},
   "outputs": [
    {
     "data": {
      "text/plain": [
       "3054"
      ]
     },
     "execution_count": 45,
     "metadata": {},
     "output_type": "execute_result"
    }
   ],
   "source": [
    "# lets check the no. of the words in the final vocabulary\n",
    "vocab_size = len(final_vocab)\n",
    "vocab_size"
   ]
  },
  {
   "cell_type": "code",
   "execution_count": 46,
   "metadata": {},
   "outputs": [],
   "source": [
    "def filter(tweet):\n",
    "    sentence = \"\"\n",
    "    for word in tweet.split():  \n",
    "        if word in final_vocab:\n",
    "            sentence = sentence + word + ' '\n",
    "    return(sentence)"
   ]
  },
  {
   "cell_type": "code",
   "execution_count": 47,
   "metadata": {},
   "outputs": [],
   "source": [
    "train['Sentence'] = train['Sentence'].apply(lambda s : filter(s))\n",
    "test ['Sentence'] = test ['Sentence'].apply(lambda s : filter(s))"
   ]
  },
  {
   "cell_type": "code",
   "execution_count": 16,
   "metadata": {},
   "outputs": [
    {
     "data": {
      "text/plain": [
       "0    ['چودھری رحمت علی 16 کو مشرقی پنجاب کے ضلع ہوش...\n",
       "1    25 سال کی عمر میں آپ صلی اللہ علیہ و آلہ وسلم ...\n",
       "2    علی خان پاکستان کے پہلے وزیراعظم تھے۔ آپ ہندوس...\n",
       "3    ['مرزا غالب اردو زبان کے سب سے بڑے شاعر سمجھے ...\n",
       "4    سلطان 10 4 مئی ہندوستان میں انگریزوں کے خلاف ج...\n",
       "Name: Sentence, dtype: object"
      ]
     },
     "execution_count": 16,
     "metadata": {},
     "output_type": "execute_result"
    }
   ],
   "source": [
    "train.Sentence.head()\n"
   ]
  },
  {
   "cell_type": "code",
   "execution_count": 48,
   "metadata": {},
   "outputs": [],
   "source": [
    "# the different units into which you can break down text (words, characters, or n-grams) are called tokens, \n",
    "# and breaking text into such tokens is called tokenization, this can be achieved using Tokenizer in Keras\n",
    "\n",
    "from keras.preprocessing.text import Tokenizer\n",
    "# fit a tokenizer\n",
    "def create_tokenizer(lines):\n",
    "    # num_words = vocab_size will create a tokenizer,configured to only take into account the vocab_size(6025)\n",
    "    tokenizer = Tokenizer(num_words=vocab_size)\n",
    "    # Build th word index, Turns strings into lists of integer indices\n",
    "    tokenizer.fit_on_texts(lines) \n",
    "    return tokenizer"
   ]
  },
  {
   "cell_type": "code",
   "execution_count": 49,
   "metadata": {},
   "outputs": [
    {
     "name": "stdout",
     "output_type": "stream",
     "text": [
      "Found 3016 unique tokens.\n"
     ]
    }
   ],
   "source": [
    "# create and apply tokenizer on the training dataset\n",
    "tokenizer = create_tokenizer(train.Sentence)\n",
    "\n",
    "word_index = tokenizer.word_index\n",
    "print('Found %s unique tokens.' % len(word_index))"
   ]
  },
  {
   "cell_type": "code",
   "execution_count": 50,
   "metadata": {},
   "outputs": [],
   "source": [
    "train_text = tokenizer.texts_to_matrix(train.Sentence, mode = 'freq')"
   ]
  },
  {
   "cell_type": "code",
   "execution_count": 20,
   "metadata": {},
   "outputs": [],
   "source": [
    "\n",
    "from keras import preprocessing\n",
    "# conver text to sequences\n",
    "sequences = tokenizer.texts_to_sequences(train.Sentence)\n",
    "#print(sequences)"
   ]
  },
  {
   "cell_type": "code",
   "execution_count": 23,
   "metadata": {},
   "outputs": [],
   "source": [
    "maxlen =100"
   ]
  },
  {
   "cell_type": "code",
   "execution_count": 24,
   "metadata": {},
   "outputs": [],
   "source": [
    "from keras_preprocessing.sequence import pad_sequences\n",
    "train_text = pad_sequences(sequences, maxlen=maxlen)\n"
   ]
  },
  {
   "cell_type": "code",
   "execution_count": 71,
   "metadata": {},
   "outputs": [],
   "source": [
    "tokenizer = create_tokenizer(train.Sentence)"
   ]
  },
  {
   "cell_type": "code",
   "execution_count": 72,
   "metadata": {},
   "outputs": [],
   "source": [
    "from keras import preprocessing\n",
    "# conver text to sequences\n",
    "sequences = tokenizer.texts_to_sequences(train.Sentence)\n",
    "#print(sequences)"
   ]
  },
  {
   "cell_type": "code",
   "execution_count": 73,
   "metadata": {},
   "outputs": [],
   "source": [
    "from keras_preprocessing.sequence import pad_sequences\n",
    "train_text = pad_sequences(sequences, maxlen=maxlen)\n"
   ]
  },
  {
   "cell_type": "code",
   "execution_count": 74,
   "metadata": {},
   "outputs": [],
   "source": [
    "X_train, X_test, y_train, y_test = train_test_split(train_text, train.Sentiment, test_size = 0.2, random_state = 42)"
   ]
  },
  {
   "cell_type": "code",
   "execution_count": 75,
   "metadata": {},
   "outputs": [],
   "source": [
    "import keras.backend as K\n",
    "def get_f1(y_true, y_pred): #taken from old keras source code\n",
    "    true_positives = K.sum(K.round(K.clip(y_true * y_pred, 0, 1)))\n",
    "    possible_positives = K.sum(K.round(K.clip(y_true, 0, 1)))\n",
    "    predicted_positives = K.sum(K.round(K.clip(y_pred, 0, 1)))\n",
    "    precision = true_positives / (predicted_positives + K.epsilon())\n",
    "    recall = true_positives / (possible_positives + K.epsilon())\n",
    "    f1_val = 2*(precision*recall)/(precision+recall+K.epsilon())\n",
    "    return f1_val"
   ]
  },
  {
   "cell_type": "code",
   "execution_count": 53,
   "metadata": {},
   "outputs": [
    {
     "data": {
      "text/plain": [
       "(102, 3054)"
      ]
     },
     "execution_count": 53,
     "metadata": {},
     "output_type": "execute_result"
    }
   ],
   "source": [
    "X_train.shape"
   ]
  },
  {
   "cell_type": "code",
   "execution_count": 64,
   "metadata": {},
   "outputs": [],
   "source": [
    "max_words = 3054"
   ]
  },
  {
   "cell_type": "code",
   "execution_count": 55,
   "metadata": {},
   "outputs": [
    {
     "name": "stdout",
     "output_type": "stream",
     "text": [
      "Found 400000 word vectors.\n"
     ]
    }
   ],
   "source": [
    "import os\n",
    "# glove_dir = \"../input/glove6b100dtxt/\"\n",
    "embeddings_index = {}\n",
    "f = open('glove.6B.100d.txt',encoding='utf-8')\n",
    "for line in f:\n",
    "    values = line.split()\n",
    "    word = values[0]\n",
    "    coefs = np.asarray(values[1:], dtype='float32')\n",
    "    embeddings_index[word] = coefs\n",
    "f.close()\n",
    "print('Found %s word vectors.' % len(embeddings_index))"
   ]
  },
  {
   "cell_type": "code",
   "execution_count": 65,
   "metadata": {},
   "outputs": [],
   "source": [
    "\n",
    "embedding_dim = 100\n",
    "\n",
    "embedding_matrix = np.zeros((max_words, embedding_dim))\n",
    "\n",
    "for word, i in word_index.items():\n",
    "    if i < max_words:\n",
    "        embedding_vector = embeddings_index.get(word)\n",
    "        if embedding_vector is not None:\n",
    "            embedding_matrix[i] = embedding_vector # Words not found in the embedding index will be all zeros."
   ]
  },
  {
   "cell_type": "code",
   "execution_count": 76,
   "metadata": {},
   "outputs": [
    {
     "name": "stdout",
     "output_type": "stream",
     "text": [
      "Model: \"sequential_4\"\n",
      "_________________________________________________________________\n",
      " Layer (type)                Output Shape              Param #   \n",
      "=================================================================\n",
      " embedding_4 (Embedding)     (None, None, 32)          97728     \n",
      "                                                                 \n",
      " simple_rnn (SimpleRNN)      (None, 32)                2080      \n",
      "                                                                 \n",
      " dense_8 (Dense)             (None, 1)                 33        \n",
      "                                                                 \n",
      "=================================================================\n",
      "Total params: 99,841\n",
      "Trainable params: 99,841\n",
      "Non-trainable params: 0\n",
      "_________________________________________________________________\n"
     ]
    }
   ],
   "source": [
    "from keras.layers import Embedding, SimpleRNN\n",
    "model = Sequential()\n",
    "model.add(Embedding(max_words, 32))\n",
    "model.add(SimpleRNN(32))\n",
    "model.add(Dense(1, activation='sigmoid'))\n",
    "model.summary()"
   ]
  },
  {
   "cell_type": "code",
   "execution_count": 67,
   "metadata": {},
   "outputs": [],
   "source": [
    "callbacks_list = [\n",
    "EarlyStopping(\n",
    "monitor='get_f1',\n",
    "patience=1,\n",
    "),\n",
    "ModelCheckpoint(filepath='./SRNN.h5',monitor='val_loss',save_best_only=True)\n",
    "]"
   ]
  },
  {
   "cell_type": "code",
   "execution_count": 77,
   "metadata": {},
   "outputs": [
    {
     "name": "stdout",
     "output_type": "stream",
     "text": [
      "Epoch 1/100\n"
     ]
    },
    {
     "name": "stderr",
     "output_type": "stream",
     "text": [
      "c:\\Users\\dell\\AppData\\Local\\Programs\\Python\\Python310\\lib\\site-packages\\keras\\engine\\data_adapter.py:1699: FutureWarning: The behavior of `series[i:j]` with an integer-dtype index is deprecated. In a future version, this will be treated as *label-based* indexing, consistent with e.g. `series[i]` lookups. To retain the old behavior, use `series.iloc[i:j]`. To get the future behavior, use `series.loc[i:j]`.\n",
      "  return t[start:end]\n"
     ]
    },
    {
     "name": "stdout",
     "output_type": "stream",
     "text": [
      "1/1 [==============================] - 5s 5s/step - loss: 0.8198 - get_f1: 1.3455 - val_loss: 0.4945 - val_get_f1: 1.1111\n",
      "Epoch 2/100\n",
      "1/1 [==============================] - 0s 160ms/step - loss: -0.1015 - get_f1: 1.0064 - val_loss: 0.0502 - val_get_f1: 1.0526\n",
      "Epoch 3/100\n",
      "1/1 [==============================] - 0s 146ms/step - loss: -0.8069 - get_f1: 1.0000 - val_loss: -0.3737 - val_get_f1: 1.0000\n",
      "Epoch 4/100\n",
      "1/1 [==============================] - 0s 147ms/step - loss: -1.0684 - get_f1: 1.0000 - val_loss: -0.9708 - val_get_f1: 1.0000\n"
     ]
    }
   ],
   "source": [
    "model.compile(optimizer='rmsprop', loss='binary_crossentropy', metrics=[get_f1])\n",
    "\n",
    "history = model.fit(X_train, y_train,\n",
    "epochs=100,\n",
    "batch_size=128,\n",
    "callbacks=callbacks_list,\n",
    "validation_split=0.2)"
   ]
  },
  {
   "cell_type": "code",
   "execution_count": 80,
   "metadata": {},
   "outputs": [
    {
     "data": {
      "image/png": "[encoded data removed]",
      "text/plain": [
       "<Figure size 640x480 with 1 Axes>"
      ]
     },
     "metadata": {},
     "output_type": "display_data"
    },
    {
     "data": {
      "image/png": "[encoded data removed]",
      "text/plain": [
       "<Figure size 640x480 with 1 Axes>"
      ]
     },
     "metadata": {},
     "output_type": "display_data"
    }
   ],
   "source": [
    "import matplotlib.pyplot as plt\n",
    "acc = history.history['get_f1']\n",
    "val_acc = history.history['val_get_f1']\n",
    "\n",
    "loss = history.history['loss']\n",
    "val_loss = history.history['val_loss']\n",
    "\n",
    "epochs = range(1, len(acc) + 1)\n",
    "\n",
    "plt.plot(epochs, acc, 'bo', label='Training acc')\n",
    "plt.plot(epochs, val_acc, 'b', label='Validation acc')\n",
    "plt.title('Training and validation accuracy')\n",
    "plt.legend()\n",
    "\n",
    "plt.figure()\n",
    "plt.plot(epochs, loss, 'bo', label='Training loss')\n",
    "plt.plot(epochs, val_loss, 'b', label='Validation loss')\n",
    "plt.title('Training and validation loss')\n",
    "plt.legend()\n",
    "plt.show()"
   ]
  },
  {
   "cell_type": "code",
   "execution_count": 81,
   "metadata": {},
   "outputs": [],
   "source": [
    "# dependencies = {\n",
    "#     'get_f1': get_f1\n",
    "# }\n",
    "\n",
    "\n",
    "# # load the model from disk\n",
    "# loaded_model_SRNN = keras.models.load_model('./SRNN.h5',custom_objects=dependencies)"
   ]
  },
  {
   "cell_type": "code",
   "execution_count": 88,
   "metadata": {},
   "outputs": [
    {
     "name": "stdout",
     "output_type": "stream",
     "text": [
      "1/1 [==============================] - 0s 77ms/step\n",
      "              precision    recall  f1-score   support\n",
      "\n",
      "           0       0.00      0.00      0.00       0.0\n",
      "           1       0.00      0.00      0.00       5.0\n",
      "           2       0.00      0.00      0.00       8.0\n",
      "           3       0.00      0.00      0.00      13.0\n",
      "\n",
      "    accuracy                           0.00      26.0\n",
      "   macro avg       0.00      0.00      0.00      26.0\n",
      "weighted avg       0.00      0.00      0.00      26.0\n",
      "\n"
     ]
    },
    {
     "name": "stderr",
     "output_type": "stream",
     "text": [
      "c:\\Users\\dell\\AppData\\Local\\Programs\\Python\\Python310\\lib\\site-packages\\sklearn\\metrics\\_classification.py:1334: UndefinedMetricWarning: Precision and F-score are ill-defined and being set to 0.0 in labels with no predicted samples. Use `zero_division` parameter to control this behavior.\n",
      "  _warn_prf(average, modifier, msg_start, len(result))\n",
      "c:\\Users\\dell\\AppData\\Local\\Programs\\Python\\Python310\\lib\\site-packages\\sklearn\\metrics\\_classification.py:1334: UndefinedMetricWarning: Recall and F-score are ill-defined and being set to 0.0 in labels with no true samples. Use `zero_division` parameter to control this behavior.\n",
      "  _warn_prf(average, modifier, msg_start, len(result))\n",
      "c:\\Users\\dell\\AppData\\Local\\Programs\\Python\\Python310\\lib\\site-packages\\sklearn\\metrics\\_classification.py:1334: UndefinedMetricWarning: Precision and F-score are ill-defined and being set to 0.0 in labels with no predicted samples. Use `zero_division` parameter to control this behavior.\n",
      "  _warn_prf(average, modifier, msg_start, len(result))\n",
      "c:\\Users\\dell\\AppData\\Local\\Programs\\Python\\Python310\\lib\\site-packages\\sklearn\\metrics\\_classification.py:1334: UndefinedMetricWarning: Recall and F-score are ill-defined and being set to 0.0 in labels with no true samples. Use `zero_division` parameter to control this behavior.\n",
      "  _warn_prf(average, modifier, msg_start, len(result))\n",
      "c:\\Users\\dell\\AppData\\Local\\Programs\\Python\\Python310\\lib\\site-packages\\sklearn\\metrics\\_classification.py:1334: UndefinedMetricWarning: Precision and F-score are ill-defined and being set to 0.0 in labels with no predicted samples. Use `zero_division` parameter to control this behavior.\n",
      "  _warn_prf(average, modifier, msg_start, len(result))\n",
      "c:\\Users\\dell\\AppData\\Local\\Programs\\Python\\Python310\\lib\\site-packages\\sklearn\\metrics\\_classification.py:1334: UndefinedMetricWarning: Recall and F-score are ill-defined and being set to 0.0 in labels with no true samples. Use `zero_division` parameter to control this behavior.\n",
      "  _warn_prf(average, modifier, msg_start, len(result))\n"
     ]
    }
   ],
   "source": [
    "# prediction on the test dataset\n",
    "#X_test_Set = tokenizer.texts_to_matrix(X_test, mode = 'freq')\n",
    "from sklearn.metrics import accuracy_score, classification_report\n",
    "# y_pred = loaded_model_SRNN.predict(X_test)\n",
    "y_pred = np.argmax(model.predict(X_test),axis=1)\n",
    "print(classification_report(y_test, y_pred))"
   ]
  },
  {
   "cell_type": "code",
   "execution_count": null,
   "metadata": {},
   "outputs": [],
   "source": []
  }
 ],
 "metadata": {
  "kernelspec": {
   "display_name": "Python 3",
   "language": "python",
   "name": "python3"
  },
  "language_info": {
   "codemirror_mode": {
    "name": "ipython",
    "version": 3
   },
   "file_extension": ".py",
   "mimetype": "text/x-python",
   "name": "python",
   "nbconvert_exporter": "python",
   "pygments_lexer": "ipython3",
   "version": "3.8.8"
  },
  "vscode": {
   "interpreter": {
    "hash": "c7af7df4901773a0e355da496bf365ae011b1b331a57bbc9908dae1ee21823d7"
   }
  }
 },
 "nbformat": 4,
 "nbformat_minor": 2
}
